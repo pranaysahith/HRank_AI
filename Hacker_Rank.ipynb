{
 "cells": [
  {
   "cell_type": "code",
   "execution_count": 16,
   "metadata": {
    "collapsed": false
   },
   "outputs": [
    {
     "name": "stdout",
     "output_type": "stream",
     "text": [
      "0.995893206468\n"
     ]
    }
   ],
   "source": [
    "from scipy.stats import pearsonr\n",
    "import sys\n",
    "\n",
    "#x = sys.stdin.readline()\n",
    "#y = sys.stdin.readline()\n",
    "x = \"1 2 3 4 5\"\n",
    "y = \"1 4 6 8 10\"\n",
    "a = [int(i) for i in x.split()]\n",
    "b = [int(i) for i in y.split()]\n",
    "\n",
    "print pearsonr(a,b)[0]"
   ]
  },
  {
   "cell_type": "code",
   "execution_count": null,
   "metadata": {
    "collapsed": true
   },
   "outputs": [],
   "source": [
    "predicting house rates - hackerrank\n",
    "import sys\n",
    "from sklearn.linear_model import LinearRegression as lr\n",
    "fn = sys.stdin.readline()\n",
    "F, N = fn.split()\n",
    "F = int(F)\n",
    "N = int(N)\n",
    "df = []\n",
    "for i in range(0,N):\n",
    "    row = sys.stdin.readline()\n",
    "    r = row.split()\n",
    "    df.append([float(num) for num in r])\n",
    "    \n",
    "x = []\n",
    "y = []\n",
    "for row in df:\n",
    "    r = []\n",
    "    for i in range(0,F):\n",
    "        r.append(row[i])\n",
    "    x.append(r)\n",
    "    y.append(row[F])\n",
    "\n",
    "t = sys.stdin.readline()\n",
    "t = int(t)\n",
    "tdf = []\n",
    "for i in range(0,t):\n",
    "    row = sys.stdin.readline()\n",
    "    r = row.split()\n",
    "    tdf.append([float(num) for num in r])\n",
    "\n",
    "model = lr()\n",
    "model.fit(x,y)\n",
    "prates = model.predict(tdf)\n",
    "for rate in prates:\n",
    "    print rate"
   ]
  },
  {
   "cell_type": "code",
   "execution_count": 1,
   "metadata": {
    "collapsed": false
   },
   "outputs": [],
   "source": [
    "from sklearn.svm import SVC\n",
    "import pandas as pd\n",
    "import sys\n",
    "def get_df():\n",
    "    #fn = sys.stdin.readline()\n",
    "    fn = \"6 6\"\n",
    "    N, F = (int(p) for p in fn.split())\n",
    "    F = F +2\n",
    "    train = []\n",
    "    for i in range(0,N):\n",
    "        #row = sys.stdin.readline()\n",
    "        row = \"ayx +1 1:1 2:2 3:3 4:4\"\n",
    "        r = row.split()\n",
    "        r1 = []\n",
    "        for num in r:\n",
    "            try:\n",
    "                r1.append(num.split(':')[1])\n",
    "            except:\n",
    "                r1.append(num)\n",
    "        train.append(r1)\n",
    "    trainx = []\n",
    "    trainy = []\n",
    "    for row in train:\n",
    "        r = []\n",
    "        for i in range(2,len(row)):\n",
    "            r.append(float(row[i]))\n",
    "        trainx.append(r)\n",
    "        trainy.append(int(row[1]))\n",
    "\n",
    "\n",
    "    trainxdf = pd.DataFrame(trainx)\n",
    "    trainxdf = trainxdf[trainxdf.columns[(trainxdf != 0).any()]]\n",
    "    trainx_norm = (trainxdf - trainxdf.mean()) / (trainxdf.std())\n",
    "    \n",
    "    print trainxdf.std()\n",
    "        \n",
    "\n",
    "    #t = int(sys.stdin.readline())\n",
    "    t = 4\n",
    "    testx = []\n",
    "    testid = []\n",
    "    for i in range(0,t):\n",
    "        #row = sys.stdin.readline()\n",
    "        row = \"abc 2:2 3:4 4:4 5:5\"\n",
    "        r = row.split()\n",
    "        r1 = []\n",
    "        for num in r:\n",
    "            try:\n",
    "                r1.append(float(num.split(':')[1]))\n",
    "            except:\n",
    "                testid.append(num)\n",
    "        testx.append(r1)\n",
    "    \n",
    "    testx = pd.DataFrame(testx)\n",
    "    testx = testx[testx.columns[(testx != 0).any()]]\n",
    "    testx_norm = (testx - testx.mean()) / (testx.max() - testx.min())\n",
    "    \n",
    "    return F,N,trainx_norm,trainy,testx_norm,testid"
   ]
  },
  {
   "cell_type": "code",
   "execution_count": 2,
   "metadata": {
    "collapsed": false
   },
   "outputs": [
    {
     "name": "stdout",
     "output_type": "stream",
     "text": [
      "0    0.0\n",
      "1    0.0\n",
      "2    0.0\n",
      "3    0.0\n",
      "dtype: float64\n",
      "    0   1   2   3\n",
      "0 NaN NaN NaN NaN\n",
      "1 NaN NaN NaN NaN\n",
      "2 NaN NaN NaN NaN\n",
      "3 NaN NaN NaN NaN\n",
      "4 NaN NaN NaN NaN\n",
      "5 NaN NaN NaN NaN\n"
     ]
    }
   ],
   "source": [
    "F, N, trainx, trainy, testx,testid = get_df()\n",
    "print trainx"
   ]
  },
  {
   "cell_type": "code",
   "execution_count": 81,
   "metadata": {
    "collapsed": false
   },
   "outputs": [
    {
     "name": "stdout",
     "output_type": "stream",
     "text": [
      "    0   1   2   3\n",
      "0 NaN NaN NaN NaN\n",
      "1 NaN NaN NaN NaN\n",
      "2 NaN NaN NaN NaN\n",
      "3 NaN NaN NaN NaN\n",
      "4 NaN NaN NaN NaN\n",
      "5 NaN NaN NaN NaN\n"
     ]
    },
    {
     "ename": "ValueError",
     "evalue": "Input contains NaN, infinity or a value too large for dtype('float64').",
     "output_type": "error",
     "traceback": [
      "\u001b[1;31m---------------------------------------------------------------------------\u001b[0m",
      "\u001b[1;31mValueError\u001b[0m                                Traceback (most recent call last)",
      "\u001b[1;32m<ipython-input-81-fe9196c028b6>\u001b[0m in \u001b[0;36m<module>\u001b[1;34m()\u001b[0m\n\u001b[0;32m      2\u001b[0m \u001b[1;32mfrom\u001b[0m \u001b[0msklearn\u001b[0m\u001b[1;33m.\u001b[0m\u001b[0mdecomposition\u001b[0m \u001b[1;32mimport\u001b[0m \u001b[0mPCA\u001b[0m\u001b[1;33m\u001b[0m\u001b[0m\n\u001b[0;32m      3\u001b[0m \u001b[0mpca\u001b[0m \u001b[1;33m=\u001b[0m \u001b[0mPCA\u001b[0m\u001b[1;33m(\u001b[0m\u001b[0mn_components\u001b[0m \u001b[1;33m=\u001b[0m \u001b[1;36m10\u001b[0m\u001b[1;33m)\u001b[0m\u001b[1;33m\u001b[0m\u001b[0m\n\u001b[1;32m----> 4\u001b[1;33m \u001b[0mtrnx\u001b[0m \u001b[1;33m=\u001b[0m \u001b[0mpca\u001b[0m\u001b[1;33m.\u001b[0m\u001b[0mfit_transform\u001b[0m\u001b[1;33m(\u001b[0m\u001b[0mtrainx\u001b[0m\u001b[1;33m)\u001b[0m\u001b[1;33m\u001b[0m\u001b[0m\n\u001b[0m\u001b[0;32m      5\u001b[0m \u001b[0mtstx\u001b[0m \u001b[1;33m=\u001b[0m \u001b[0mpca\u001b[0m\u001b[1;33m.\u001b[0m\u001b[0mfit_transform\u001b[0m\u001b[1;33m(\u001b[0m\u001b[0mtestx\u001b[0m\u001b[1;33m)\u001b[0m\u001b[1;33m\u001b[0m\u001b[0m\n\u001b[0;32m      6\u001b[0m \u001b[0mmodel\u001b[0m \u001b[1;33m=\u001b[0m \u001b[0mSVC\u001b[0m\u001b[1;33m(\u001b[0m\u001b[1;33m)\u001b[0m\u001b[1;33m\u001b[0m\u001b[0m\n",
      "\u001b[1;32m/root/anaconda/lib/python2.7/site-packages/sklearn/decomposition/pca.pyc\u001b[0m in \u001b[0;36mfit_transform\u001b[1;34m(self, X, y)\u001b[0m\n\u001b[0;32m    239\u001b[0m \u001b[1;33m\u001b[0m\u001b[0m\n\u001b[0;32m    240\u001b[0m         \"\"\"\n\u001b[1;32m--> 241\u001b[1;33m         \u001b[0mU\u001b[0m\u001b[1;33m,\u001b[0m \u001b[0mS\u001b[0m\u001b[1;33m,\u001b[0m \u001b[0mV\u001b[0m \u001b[1;33m=\u001b[0m \u001b[0mself\u001b[0m\u001b[1;33m.\u001b[0m\u001b[0m_fit\u001b[0m\u001b[1;33m(\u001b[0m\u001b[0mX\u001b[0m\u001b[1;33m)\u001b[0m\u001b[1;33m\u001b[0m\u001b[0m\n\u001b[0m\u001b[0;32m    242\u001b[0m         \u001b[0mU\u001b[0m \u001b[1;33m=\u001b[0m \u001b[0mU\u001b[0m\u001b[1;33m[\u001b[0m\u001b[1;33m:\u001b[0m\u001b[1;33m,\u001b[0m \u001b[1;33m:\u001b[0m\u001b[0mself\u001b[0m\u001b[1;33m.\u001b[0m\u001b[0mn_components_\u001b[0m\u001b[1;33m]\u001b[0m\u001b[1;33m\u001b[0m\u001b[0m\n\u001b[0;32m    243\u001b[0m \u001b[1;33m\u001b[0m\u001b[0m\n",
      "\u001b[1;32m/root/anaconda/lib/python2.7/site-packages/sklearn/decomposition/pca.pyc\u001b[0m in \u001b[0;36m_fit\u001b[1;34m(self, X)\u001b[0m\n\u001b[0;32m    266\u001b[0m             \u001b[0mrequested\u001b[0m\u001b[1;33m.\u001b[0m\u001b[1;33m\u001b[0m\u001b[0m\n\u001b[0;32m    267\u001b[0m         \"\"\"\n\u001b[1;32m--> 268\u001b[1;33m         \u001b[0mX\u001b[0m \u001b[1;33m=\u001b[0m \u001b[0mcheck_array\u001b[0m\u001b[1;33m(\u001b[0m\u001b[0mX\u001b[0m\u001b[1;33m)\u001b[0m\u001b[1;33m\u001b[0m\u001b[0m\n\u001b[0m\u001b[0;32m    269\u001b[0m         \u001b[0mn_samples\u001b[0m\u001b[1;33m,\u001b[0m \u001b[0mn_features\u001b[0m \u001b[1;33m=\u001b[0m \u001b[0mX\u001b[0m\u001b[1;33m.\u001b[0m\u001b[0mshape\u001b[0m\u001b[1;33m\u001b[0m\u001b[0m\n\u001b[0;32m    270\u001b[0m         \u001b[0mX\u001b[0m \u001b[1;33m=\u001b[0m \u001b[0mas_float_array\u001b[0m\u001b[1;33m(\u001b[0m\u001b[0mX\u001b[0m\u001b[1;33m,\u001b[0m \u001b[0mcopy\u001b[0m\u001b[1;33m=\u001b[0m\u001b[0mself\u001b[0m\u001b[1;33m.\u001b[0m\u001b[0mcopy\u001b[0m\u001b[1;33m)\u001b[0m\u001b[1;33m\u001b[0m\u001b[0m\n",
      "\u001b[1;32m/root/anaconda/lib/python2.7/site-packages/sklearn/utils/validation.pyc\u001b[0m in \u001b[0;36mcheck_array\u001b[1;34m(array, accept_sparse, dtype, order, copy, force_all_finite, ensure_2d, allow_nd, ensure_min_samples, ensure_min_features, warn_on_dtype, estimator)\u001b[0m\n\u001b[0;32m    396\u001b[0m                              % (array.ndim, estimator_name))\n\u001b[0;32m    397\u001b[0m         \u001b[1;32mif\u001b[0m \u001b[0mforce_all_finite\u001b[0m\u001b[1;33m:\u001b[0m\u001b[1;33m\u001b[0m\u001b[0m\n\u001b[1;32m--> 398\u001b[1;33m             \u001b[0m_assert_all_finite\u001b[0m\u001b[1;33m(\u001b[0m\u001b[0marray\u001b[0m\u001b[1;33m)\u001b[0m\u001b[1;33m\u001b[0m\u001b[0m\n\u001b[0m\u001b[0;32m    399\u001b[0m \u001b[1;33m\u001b[0m\u001b[0m\n\u001b[0;32m    400\u001b[0m     \u001b[0mshape_repr\u001b[0m \u001b[1;33m=\u001b[0m \u001b[0m_shape_repr\u001b[0m\u001b[1;33m(\u001b[0m\u001b[0marray\u001b[0m\u001b[1;33m.\u001b[0m\u001b[0mshape\u001b[0m\u001b[1;33m)\u001b[0m\u001b[1;33m\u001b[0m\u001b[0m\n",
      "\u001b[1;32m/root/anaconda/lib/python2.7/site-packages/sklearn/utils/validation.pyc\u001b[0m in \u001b[0;36m_assert_all_finite\u001b[1;34m(X)\u001b[0m\n\u001b[0;32m     52\u001b[0m             and not np.isfinite(X).all()):\n\u001b[0;32m     53\u001b[0m         raise ValueError(\"Input contains NaN, infinity\"\n\u001b[1;32m---> 54\u001b[1;33m                          \" or a value too large for %r.\" % X.dtype)\n\u001b[0m\u001b[0;32m     55\u001b[0m \u001b[1;33m\u001b[0m\u001b[0m\n\u001b[0;32m     56\u001b[0m \u001b[1;33m\u001b[0m\u001b[0m\n",
      "\u001b[1;31mValueError\u001b[0m: Input contains NaN, infinity or a value too large for dtype('float64')."
     ]
    }
   ],
   "source": [
    "F, N, trainx, trainy, testx,testid = get_df()\n",
    "trainx.fillna(0)\n",
    "testx.fillna(0)\n",
    "from sklearn.decomposition import PCA\n",
    "pca = PCA(n_components = 10)\n",
    "trnx = pca.fit_transform(trainx)\n",
    "tstx = pca.fit_transform(testx)\n",
    "model = SVC()\n",
    "model.fit(trnx,trainy)\n",
    "testy = model.predict(tstx)\n",
    "for i in range(0,len(testy)):\n",
    "    print testid[i] + \" \" + str(testy[i])"
   ]
  },
  {
   "cell_type": "code",
   "execution_count": 52,
   "metadata": {
    "collapsed": false
   },
   "outputs": [
    {
     "ename": "ValueError",
     "evalue": "The number of classes has to be greater than one; got 1",
     "output_type": "error",
     "traceback": [
      "\u001b[1;31m---------------------------------------------------------------------------\u001b[0m",
      "\u001b[1;31mValueError\u001b[0m                                Traceback (most recent call last)",
      "\u001b[1;32m<ipython-input-52-ff7d97a9e933>\u001b[0m in \u001b[0;36m<module>\u001b[1;34m()\u001b[0m\n\u001b[0;32m     44\u001b[0m \u001b[0mF\u001b[0m\u001b[1;33m,\u001b[0m \u001b[0mN\u001b[0m\u001b[1;33m,\u001b[0m \u001b[0mtrainx\u001b[0m\u001b[1;33m,\u001b[0m \u001b[0mtrainy\u001b[0m\u001b[1;33m,\u001b[0m \u001b[0mtestx\u001b[0m \u001b[1;33m=\u001b[0m \u001b[0mget_df\u001b[0m\u001b[1;33m(\u001b[0m\u001b[1;33m)\u001b[0m\u001b[1;33m\u001b[0m\u001b[0m\n\u001b[0;32m     45\u001b[0m \u001b[0mmodel\u001b[0m \u001b[1;33m=\u001b[0m \u001b[0mSVC\u001b[0m\u001b[1;33m(\u001b[0m\u001b[1;33m)\u001b[0m\u001b[1;33m\u001b[0m\u001b[0m\n\u001b[1;32m---> 46\u001b[1;33m \u001b[0mmodel\u001b[0m\u001b[1;33m.\u001b[0m\u001b[0mfit\u001b[0m\u001b[1;33m(\u001b[0m\u001b[0mtrainx\u001b[0m\u001b[1;33m,\u001b[0m\u001b[0mtrainy\u001b[0m\u001b[1;33m)\u001b[0m\u001b[1;33m\u001b[0m\u001b[0m\n\u001b[0m\u001b[0;32m     47\u001b[0m \u001b[0mtesty\u001b[0m \u001b[1;33m=\u001b[0m \u001b[0mmodel\u001b[0m\u001b[1;33m.\u001b[0m\u001b[0mpredict\u001b[0m\u001b[1;33m(\u001b[0m\u001b[0mtestx\u001b[0m\u001b[1;33m[\u001b[0m\u001b[1;36m1\u001b[0m\u001b[1;33m:\u001b[0m\u001b[1;33m]\u001b[0m\u001b[1;33m)\u001b[0m\u001b[1;33m\u001b[0m\u001b[0m\n\u001b[0;32m     48\u001b[0m \u001b[1;32mfor\u001b[0m \u001b[0mx\u001b[0m \u001b[1;33m,\u001b[0m \u001b[0my\u001b[0m \u001b[1;32min\u001b[0m \u001b[0mtestx\u001b[0m\u001b[1;33m,\u001b[0m\u001b[0mtesty\u001b[0m\u001b[1;33m:\u001b[0m\u001b[1;33m\u001b[0m\u001b[0m\n",
      "\u001b[1;32m/root/anaconda/lib/python2.7/site-packages/sklearn/svm/base.pyc\u001b[0m in \u001b[0;36mfit\u001b[1;34m(self, X, y, sample_weight)\u001b[0m\n\u001b[0;32m    149\u001b[0m \u001b[1;33m\u001b[0m\u001b[0m\n\u001b[0;32m    150\u001b[0m         \u001b[0mX\u001b[0m \u001b[1;33m=\u001b[0m \u001b[0mcheck_array\u001b[0m\u001b[1;33m(\u001b[0m\u001b[0mX\u001b[0m\u001b[1;33m,\u001b[0m \u001b[0maccept_sparse\u001b[0m\u001b[1;33m=\u001b[0m\u001b[1;34m'csr'\u001b[0m\u001b[1;33m,\u001b[0m \u001b[0mdtype\u001b[0m\u001b[1;33m=\u001b[0m\u001b[0mnp\u001b[0m\u001b[1;33m.\u001b[0m\u001b[0mfloat64\u001b[0m\u001b[1;33m,\u001b[0m \u001b[0morder\u001b[0m\u001b[1;33m=\u001b[0m\u001b[1;34m'C'\u001b[0m\u001b[1;33m)\u001b[0m\u001b[1;33m\u001b[0m\u001b[0m\n\u001b[1;32m--> 151\u001b[1;33m         \u001b[0my\u001b[0m \u001b[1;33m=\u001b[0m \u001b[0mself\u001b[0m\u001b[1;33m.\u001b[0m\u001b[0m_validate_targets\u001b[0m\u001b[1;33m(\u001b[0m\u001b[0my\u001b[0m\u001b[1;33m)\u001b[0m\u001b[1;33m\u001b[0m\u001b[0m\n\u001b[0m\u001b[0;32m    152\u001b[0m \u001b[1;33m\u001b[0m\u001b[0m\n\u001b[0;32m    153\u001b[0m         sample_weight = np.asarray([]\n",
      "\u001b[1;32m/root/anaconda/lib/python2.7/site-packages/sklearn/svm/base.pyc\u001b[0m in \u001b[0;36m_validate_targets\u001b[1;34m(self, y)\u001b[0m\n\u001b[0;32m    519\u001b[0m             raise ValueError(\n\u001b[0;32m    520\u001b[0m                 \u001b[1;34m\"The number of classes has to be greater than one; got %d\"\u001b[0m\u001b[1;33m\u001b[0m\u001b[0m\n\u001b[1;32m--> 521\u001b[1;33m                 % len(cls))\n\u001b[0m\u001b[0;32m    522\u001b[0m \u001b[1;33m\u001b[0m\u001b[0m\n\u001b[0;32m    523\u001b[0m         \u001b[0mself\u001b[0m\u001b[1;33m.\u001b[0m\u001b[0mclasses_\u001b[0m \u001b[1;33m=\u001b[0m \u001b[0mcls\u001b[0m\u001b[1;33m\u001b[0m\u001b[0m\n",
      "\u001b[1;31mValueError\u001b[0m: The number of classes has to be greater than one; got 1"
     ]
    }
   ],
   "source": [
    "# Enter your code here. Read input from STDIN. Print output to STDOUT\n",
    "from sklearn.svm import SVC\n",
    "import pandas \n",
    "import sys\n",
    "def get_df():\n",
    "    fn = sys.stdin.readline()\n",
    "    #fn = \"6 6\"\n",
    "    N, F = (int(p) for p in fn.split())\n",
    "    F = F +2\n",
    "    train = []\n",
    "    for i in range(0,N):\n",
    "        row = sys.stdin.readline()\n",
    "        #row = \"ayx +1 1:1 2:2 3:3 4:4\"\n",
    "        r = row.split()\n",
    "        r1 = []\n",
    "        for num in r:\n",
    "            try:\n",
    "                r1.append(num.split(':')[1])\n",
    "            except:\n",
    "                r1.append(num)\n",
    "        train.append(r1)\n",
    "    trainx = []\n",
    "    trainy = []\n",
    "    for row in train:\n",
    "        r = []\n",
    "        for i in range(2,len(row)):\n",
    "            r.append(float(row[i]))\n",
    "        trainx.append(r)\n",
    "        trainy.append(int(row[1]))\n",
    "\n",
    "\n",
    "    trainxdf = pandas.DataFrame(trainx)\n",
    "    trainxdf = trainxdf[trainxdf.columns[(trainxdf != 0).any()]]\n",
    "    \n",
    "    trainx_norm = (trainxdf - trainxdf.mean()) / (trainxdf.std())\n",
    "    \n",
    "    \n",
    "        \n",
    "\n",
    "    t = int(sys.stdin.readline())\n",
    "    #t = 4\n",
    "    testx = []\n",
    "    testid = []\n",
    "    for i in range(0,t):\n",
    "        row = sys.stdin.readline()\n",
    "        #row = \"abc 2:2 3:4 4:4 5:5\"\n",
    "        r = row.split()\n",
    "        r1 = []\n",
    "        for num in r:\n",
    "            try:\n",
    "                r1.append(float(num.split(':')[1]))\n",
    "            except:\n",
    "                testid.append(num)\n",
    "        testx.append(r1)\n",
    "    \n",
    "    testx = pandas.DataFrame(testx)\n",
    "    testx = testx[testx.columns[(testx != 0).any()]]\n",
    "    testx_norm = (testx - testx.mean()) / (testx.max() - testx.min())\n",
    "    \n",
    "    return F,N,trainx_norm,trainy,testx_norm,testid\n",
    "F, N, trainx, trainy, testx,testid = get_df()\n",
    "from sklearn.decomposition import PCA\n",
    "pca = PCA(n_components = 10)\n",
    "trnx = pca.fit_transform(trainx)\n",
    "tstx = pca.fit_transform(testx)\n",
    "model = SVC()\n",
    "\n",
    "model.fit(trnx,trainy)\n",
    "testy = model.predict(tstx)\n",
    "for i in range(0,len(testy)):\n",
    "    print testid[i] + \" \" + str(testy[i])"
   ]
  },
  {
   "cell_type": "code",
   "execution_count": 55,
   "metadata": {
    "collapsed": true
   },
   "outputs": [],
   "source": [
    "t = 4\n",
    "testx = []\n",
    "for i in range(0,t):\n",
    "    #row = sys.stdin.readline()\n",
    "    row = \"abc 2:2 3:4 4 5\"\n",
    "    r = row.split()\n",
    "    r1 = []\n",
    "    for num in r:\n",
    "        try:\n",
    "            r1.append(float(num.split(':')[1]))\n",
    "        except:\n",
    "            r1.append(num)\n",
    "    testx.append(r1)"
   ]
  },
  {
   "cell_type": "code",
   "execution_count": 56,
   "metadata": {
    "collapsed": false
   },
   "outputs": [
    {
     "name": "stdout",
     "output_type": "stream",
     "text": [
      "[['abc', 2.0, 4.0, '4', '5'], ['abc', 2.0, 4.0, '4', '5'], ['abc', 2.0, 4.0, '4', '5'], ['abc', 2.0, 4.0, '4', '5']]\n"
     ]
    }
   ],
   "source": [
    "print testx"
   ]
  },
  {
   "cell_type": "code",
   "execution_count": null,
   "metadata": {
    "collapsed": true
   },
   "outputs": [],
   "source": []
  }
 ],
 "metadata": {
  "kernelspec": {
   "display_name": "Python 2",
   "language": "python",
   "name": "python2"
  },
  "language_info": {
   "codemirror_mode": {
    "name": "ipython",
    "version": 2
   },
   "file_extension": ".py",
   "mimetype": "text/x-python",
   "name": "python",
   "nbconvert_exporter": "python",
   "pygments_lexer": "ipython2",
   "version": "2.7.11"
  }
 },
 "nbformat": 4,
 "nbformat_minor": 0
}
